{
 "cells": [
  {
   "cell_type": "markdown",
   "id": "18512dc2",
   "metadata": {},
   "source": [
    "Q1. Python program to find smallest number in a list."
   ]
  },
  {
   "cell_type": "code",
   "execution_count": 4,
   "id": "fedb4f62",
   "metadata": {},
   "outputs": [
    {
     "data": {
      "text/plain": [
       "1"
      ]
     },
     "execution_count": 4,
     "metadata": {},
     "output_type": "execute_result"
    }
   ],
   "source": [
    "def smallest_in_list(list_1):\n",
    "    for i in list_1:\n",
    "        list_1.sort()\n",
    "        return list_1[0]\n",
    "\n",
    "l = [1,234,34,34,34,23,12,567]\n",
    "smallest_in_list(l)   "
   ]
  },
  {
   "cell_type": "markdown",
   "id": "fa53b967",
   "metadata": {},
   "source": [
    "Q2. Python program to find largest number in a list."
   ]
  },
  {
   "cell_type": "code",
   "execution_count": 5,
   "id": "d26bb071",
   "metadata": {},
   "outputs": [
    {
     "data": {
      "text/plain": [
       "567"
      ]
     },
     "execution_count": 5,
     "metadata": {},
     "output_type": "execute_result"
    }
   ],
   "source": [
    "def largest_in_list(list_1):\n",
    "    for i in list_1:\n",
    "        list_1.sort()\n",
    "        return list_1[-1]\n",
    "    \n",
    "l = [1,234,34,34,34,23,12,567]\n",
    "largest_in_list(l)   "
   ]
  },
  {
   "cell_type": "markdown",
   "id": "730d78eb",
   "metadata": {},
   "source": [
    "Q3. Python program to find second largest number in a list."
   ]
  },
  {
   "cell_type": "code",
   "execution_count": 6,
   "id": "b2c7a49d",
   "metadata": {},
   "outputs": [
    {
     "data": {
      "text/plain": [
       "234"
      ]
     },
     "execution_count": 6,
     "metadata": {},
     "output_type": "execute_result"
    }
   ],
   "source": [
    "def scnd_largest_in_list(list_1):\n",
    "    for i in list_1:\n",
    "        list_1.sort()\n",
    "        return list_1[-2]\n",
    "    \n",
    "l = [1,234,34,34,34,23,12,567]\n",
    "scnd_largest_in_list(l)"
   ]
  },
  {
   "cell_type": "markdown",
   "id": "9c7981ea",
   "metadata": {},
   "source": [
    "Q4. Python program to find N largest elements from a list."
   ]
  },
  {
   "cell_type": "code",
   "execution_count": 7,
   "id": "c1ab4432",
   "metadata": {},
   "outputs": [],
   "source": [
    "#Answer\n",
    "#___N/A___"
   ]
  },
  {
   "cell_type": "markdown",
   "id": "a43ee67b",
   "metadata": {},
   "source": [
    "5. Python program to print even numbers in a list"
   ]
  },
  {
   "cell_type": "code",
   "execution_count": 8,
   "id": "d45bbee0",
   "metadata": {},
   "outputs": [
    {
     "name": "stdout",
     "output_type": "stream",
     "text": [
      "234\n",
      "34\n",
      "34\n",
      "34\n",
      "12\n"
     ]
    }
   ],
   "source": [
    "l = [1,234,34,34,34,23,12,567]\n",
    "for i in l:\n",
    "    if i%2==0:\n",
    "        print(i)"
   ]
  },
  {
   "cell_type": "markdown",
   "id": "fd753b85",
   "metadata": {},
   "source": [
    "Q6. Python program to print odd numbers in a List"
   ]
  },
  {
   "cell_type": "code",
   "execution_count": 9,
   "id": "d69c9e7e",
   "metadata": {},
   "outputs": [
    {
     "name": "stdout",
     "output_type": "stream",
     "text": [
      "1\n",
      "23\n",
      "567\n"
     ]
    }
   ],
   "source": [
    "l = [1,234,34,34,34,23,12,567]\n",
    "for i in l:\n",
    "    if i%2!=0:\n",
    "        print(i)"
   ]
  },
  {
   "cell_type": "markdown",
   "id": "41339391",
   "metadata": {},
   "source": [
    "7. Python program to print all even numbers in a range"
   ]
  },
  {
   "cell_type": "code",
   "execution_count": 10,
   "id": "eb5be7e9",
   "metadata": {},
   "outputs": [
    {
     "name": "stdout",
     "output_type": "stream",
     "text": [
      "Enter the number - 77\n",
      "0\n",
      "2\n",
      "4\n",
      "6\n",
      "8\n",
      "10\n",
      "12\n",
      "14\n",
      "16\n",
      "18\n",
      "20\n",
      "22\n",
      "24\n",
      "26\n",
      "28\n",
      "30\n",
      "32\n",
      "34\n",
      "36\n",
      "38\n",
      "40\n",
      "42\n",
      "44\n",
      "46\n",
      "48\n",
      "50\n",
      "52\n",
      "54\n",
      "56\n",
      "58\n",
      "60\n",
      "62\n",
      "64\n",
      "66\n",
      "68\n",
      "70\n",
      "72\n",
      "74\n",
      "76\n"
     ]
    }
   ],
   "source": [
    "num = int(input('Enter the number - '))\n",
    "for i in range(num):\n",
    "    if i%2==0:\n",
    "        print(i)"
   ]
  },
  {
   "cell_type": "markdown",
   "id": "3fed4004",
   "metadata": {},
   "source": [
    "8. Python program to print all odd numbers in a range"
   ]
  },
  {
   "cell_type": "code",
   "execution_count": 11,
   "id": "3acdf10c",
   "metadata": {},
   "outputs": [
    {
     "name": "stdout",
     "output_type": "stream",
     "text": [
      "Enter the number - 77\n",
      "1\n",
      "3\n",
      "5\n",
      "7\n",
      "9\n",
      "11\n",
      "13\n",
      "15\n",
      "17\n",
      "19\n",
      "21\n",
      "23\n",
      "25\n",
      "27\n",
      "29\n",
      "31\n",
      "33\n",
      "35\n",
      "37\n",
      "39\n",
      "41\n",
      "43\n",
      "45\n",
      "47\n",
      "49\n",
      "51\n",
      "53\n",
      "55\n",
      "57\n",
      "59\n",
      "61\n",
      "63\n",
      "65\n",
      "67\n",
      "69\n",
      "71\n",
      "73\n",
      "75\n"
     ]
    }
   ],
   "source": [
    "num = int(input('Enter the number - '))\n",
    "for i in range(num):\n",
    "    if i%2!=0:\n",
    "        print(i)"
   ]
  },
  {
   "cell_type": "markdown",
   "id": "3de94913",
   "metadata": {},
   "source": [
    "9. Python program to print positive numbers in a list"
   ]
  },
  {
   "cell_type": "code",
   "execution_count": 12,
   "id": "a482522f",
   "metadata": {},
   "outputs": [
    {
     "name": "stdout",
     "output_type": "stream",
     "text": [
      "2.4\n",
      "1\n",
      "234\n",
      "34\n",
      "34\n",
      "34\n",
      "23\n",
      "12\n",
      "567\n"
     ]
    }
   ],
   "source": [
    "l = [-1,-3,-4,-35,2.4,1,234,34,34,34,23,12,567]\n",
    "for i in l:\n",
    "    if i>0 :\n",
    "        print(i)"
   ]
  },
  {
   "cell_type": "markdown",
   "id": "2536b71d",
   "metadata": {},
   "source": [
    "10. Python program to print negative numbers in a list"
   ]
  },
  {
   "cell_type": "code",
   "execution_count": 13,
   "id": "061f5dd4",
   "metadata": {},
   "outputs": [
    {
     "name": "stdout",
     "output_type": "stream",
     "text": [
      "-1\n",
      "-3\n",
      "-4\n",
      "-35\n"
     ]
    }
   ],
   "source": [
    "l = [-1,-3,-4,-35,2.4,1,234,34,34,34,23,12,567]\n",
    "for i in l:\n",
    "    if i<0 :\n",
    "        print(i)"
   ]
  },
  {
   "cell_type": "markdown",
   "id": "e36d8733",
   "metadata": {},
   "source": [
    "11. Python program to print all positive numbers in a range"
   ]
  },
  {
   "cell_type": "code",
   "execution_count": 14,
   "id": "e450d2d1",
   "metadata": {},
   "outputs": [
    {
     "name": "stdout",
     "output_type": "stream",
     "text": [
      "1\n",
      "2\n",
      "3\n",
      "4\n",
      "5\n",
      "6\n",
      "7\n",
      "8\n"
     ]
    }
   ],
   "source": [
    "for i in range(-9,9):\n",
    "    if i>0:\n",
    "        print(i)"
   ]
  },
  {
   "cell_type": "code",
   "execution_count": null,
   "id": "2cf41161",
   "metadata": {},
   "outputs": [],
   "source": []
  }
 ],
 "metadata": {
  "kernelspec": {
   "display_name": "Python 3",
   "language": "python",
   "name": "python3"
  },
  "language_info": {
   "codemirror_mode": {
    "name": "ipython",
    "version": 3
   },
   "file_extension": ".py",
   "mimetype": "text/x-python",
   "name": "python",
   "nbconvert_exporter": "python",
   "pygments_lexer": "ipython3",
   "version": "3.8.8"
  }
 },
 "nbformat": 4,
 "nbformat_minor": 5
}
