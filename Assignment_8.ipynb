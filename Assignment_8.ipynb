{
 "cells": [
  {
   "cell_type": "markdown",
   "id": "3cb363da",
   "metadata": {},
   "source": [
    "1. Python – Least Frequent Character in String"
   ]
  },
  {
   "cell_type": "code",
   "execution_count": 2,
   "id": "999ef521",
   "metadata": {},
   "outputs": [
    {
     "name": "stdout",
     "output_type": "stream",
     "text": [
      "The original string is : abcdeaabccdd\n",
      "The minimum of all characters in : e\n"
     ]
    }
   ],
   "source": [
    "test_str = \"abcdeaabccdd\"\n",
    "\n",
    "print (\"The original string is : \" + test_str)\n",
    "  \n",
    "all_freq = {}\n",
    "for i in test_str:\n",
    "    if i in all_freq:\n",
    "        all_freq[i] += 1\n",
    "    else:\n",
    "        all_freq[i] = 1\n",
    "res = min(all_freq, key = all_freq.get) \n",
    "print (\"The minimum of all characters in : \" + str(res))"
   ]
  },
  {
   "cell_type": "markdown",
   "id": "47bced73",
   "metadata": {},
   "source": [
    "2. Python | Maximum frequency character in String"
   ]
  },
  {
   "cell_type": "code",
   "execution_count": 3,
   "id": "8e8f1664",
   "metadata": {},
   "outputs": [
    {
     "name": "stdout",
     "output_type": "stream",
     "text": [
      "The original string is : abcdeaabccdd\n",
      "The minimum of all characters in : a\n"
     ]
    }
   ],
   "source": [
    "test_str = \"abcdeaabccdd\"\n",
    "\n",
    "print (\"The original string is : \" + test_str)\n",
    "  \n",
    "all_freq = {}\n",
    "for i in test_str:\n",
    "    if i in all_freq:\n",
    "        all_freq[i] += 1\n",
    "    else:\n",
    "        all_freq[i] = 1\n",
    "res = max(all_freq, key = all_freq.get) \n",
    "print (\"The minimum of all characters in : \" + str(res))"
   ]
  },
  {
   "cell_type": "markdown",
   "id": "d20dfccb",
   "metadata": {},
   "source": [
    "3. Python | Program to check if a string contains any special character"
   ]
  },
  {
   "cell_type": "code",
   "execution_count": 1,
   "id": "04fdde91",
   "metadata": {},
   "outputs": [
    {
     "name": "stdout",
     "output_type": "stream",
     "text": [
      " oh!! you've got something spacial \n"
     ]
    }
   ],
   "source": [
    "def check_sp_char(string) :\n",
    "    \n",
    "    a = ( '[@_!#$%^&*()<>?/\\|}{~:]' )\n",
    "    sp_char = []\n",
    "    \n",
    "    for k in a:\n",
    "        sp_char.append(k)\n",
    "        \n",
    "    for i in string:\n",
    "        for  j in sp_char:\n",
    "            if i in j :\n",
    "                print(\" oh!! you've got something spacial \")\n",
    "            \n",
    "            \n",
    "string = \"hey thi$ is Ashutosh\"\n",
    "check_sp_char(string)"
   ]
  },
  {
   "cell_type": "markdown",
   "id": "5c0d65ae",
   "metadata": {},
   "source": [
    "4. Generating random strings until a given string is generated"
   ]
  },
  {
   "cell_type": "code",
   "execution_count": null,
   "id": "c8174ca0",
   "metadata": {},
   "outputs": [],
   "source": []
  },
  {
   "cell_type": "markdown",
   "id": "989a6101",
   "metadata": {},
   "source": [
    "5. Find words which are greater than given length k"
   ]
  },
  {
   "cell_type": "code",
   "execution_count": 2,
   "id": "409f7582",
   "metadata": {},
   "outputs": [
    {
     "data": {
      "text/plain": [
       "['done']"
      ]
     },
     "execution_count": 2,
     "metadata": {},
     "output_type": "execute_result"
    }
   ],
   "source": [
    "def greater_words(string,k):\n",
    "    \n",
    "    z = []\n",
    "    \n",
    "    text = string.split()\n",
    "    for i in text:\n",
    "        if len(i)>k:\n",
    "            z.append(i)\n",
    "    return z\n",
    "\n",
    "string = \" i'm not done \"\n",
    "greater_words(string,3)"
   ]
  },
  {
   "cell_type": "markdown",
   "id": "9f4ecbb5",
   "metadata": {},
   "source": [
    "\n",
    "6. Python program for removing i-th character from a string"
   ]
  },
  {
   "cell_type": "code",
   "execution_count": 3,
   "id": "fe6424d3",
   "metadata": {},
   "outputs": [
    {
     "name": "stdout",
     "output_type": "stream",
     "text": [
      " it as easy"
     ]
    }
   ],
   "source": [
    "def remove(string,i):\n",
    "\n",
    "    for k,j in enumerate(string):\n",
    "        if k != i:\n",
    "            print(j,end=\"\")\n",
    "            \n",
    "string = \" it was easy\"\n",
    "i = 4\n",
    "remove(string,i)"
   ]
  },
  {
   "cell_type": "markdown",
   "id": "ff09baf2",
   "metadata": {},
   "source": [
    "7. Python program to split and join a string"
   ]
  },
  {
   "cell_type": "code",
   "execution_count": 6,
   "id": "967066e1",
   "metadata": {},
   "outputs": [
    {
     "name": "stdout",
     "output_type": "stream",
     "text": [
      "['it', 'was', 'easy']\n",
      "  i t   w a s   e a s y\n"
     ]
    }
   ],
   "source": [
    "string = \" it was easy\"\n",
    "#for split\n",
    "print(string.split())\n",
    "#for join\n",
    "print(' '.join(string))"
   ]
  },
  {
   "cell_type": "markdown",
   "id": "e892cba1",
   "metadata": {},
   "source": [
    "\n",
    "8. Python | Check if a given string is binary string or not\n"
   ]
  },
  {
   "cell_type": "code",
   "execution_count": null,
   "id": "6db2f811",
   "metadata": {},
   "outputs": [],
   "source": []
  },
  {
   "cell_type": "markdown",
   "id": "d15b0e51",
   "metadata": {},
   "source": [
    "9. Python program to find uncommon words from two Strings\n"
   ]
  },
  {
   "cell_type": "code",
   "execution_count": null,
   "id": "165304bf",
   "metadata": {},
   "outputs": [],
   "source": [
    "def uncommon(a,b):\n",
    "    a1 = a.split()\n",
    "    b1 = b.split()\n",
    "    uncmn = ' '\n",
    "    for i in a1:\n",
    "        if i not in b1:\n",
    "            uncmn = uncmn+\" \"+i\n",
    "    for j in b1:\n",
    "        if j not in a1:\n",
    "            uncmn = uncmn+\" \"+j\n",
    "    \n",
    "    return uncmn\n",
    "\n",
    "a = \" this is iso \"\n",
    "b = \" this is andriod \"\n",
    "\n",
    "uncommon(a,b)"
   ]
  },
  {
   "cell_type": "markdown",
   "id": "7629b717",
   "metadata": {},
   "source": [
    "10. Python – Replace duplicate Occurrence in String"
   ]
  },
  {
   "cell_type": "code",
   "execution_count": null,
   "id": "6dc4fec6",
   "metadata": {},
   "outputs": [],
   "source": []
  }
 ],
 "metadata": {
  "kernelspec": {
   "display_name": "Python 3",
   "language": "python",
   "name": "python3"
  },
  "language_info": {
   "codemirror_mode": {
    "name": "ipython",
    "version": 3
   },
   "file_extension": ".py",
   "mimetype": "text/x-python",
   "name": "python",
   "nbconvert_exporter": "python",
   "pygments_lexer": "ipython3",
   "version": "3.8.8"
  }
 },
 "nbformat": 4,
 "nbformat_minor": 5
}
