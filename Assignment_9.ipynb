{
 "cells": [
  {
   "cell_type": "markdown",
   "id": "1c2ddddc",
   "metadata": {},
   "source": [
    "1. Python – Replace multiple words with K\n"
   ]
  },
  {
   "cell_type": "code",
   "execution_count": 2,
   "id": "5dc5c1f9",
   "metadata": {},
   "outputs": [
    {
     "data": {
      "text/plain": [
       "'completing a assignment for a class'"
      ]
     },
     "execution_count": 2,
     "metadata": {},
     "output_type": "execute_result"
    }
   ],
   "source": [
    "def R_words(string,words,replace_with):\n",
    "    l = []\n",
    "    for i in s.split():\n",
    "        if i in words:\n",
    "            l.append(replace_with)\n",
    "        else:\n",
    "            l.append(i)\n",
    "    return ' '.join(l)\n",
    "\n",
    "s = \"completing the assignment for BA class\"\n",
    "words = [\"the\",\"BA\"]\n",
    "replace_with = \"a\"\n",
    "\n",
    "R_words(s,words,replace_with)"
   ]
  },
  {
   "cell_type": "markdown",
   "id": "3ed81dc2",
   "metadata": {},
   "source": [
    "2. Python | Permutation of a given string using inbuilt function\n"
   ]
  },
  {
   "cell_type": "code",
   "execution_count": 3,
   "id": "531fd52b",
   "metadata": {},
   "outputs": [
    {
     "name": "stdout",
     "output_type": "stream",
     "text": [
      "ABC\n",
      "ACB\n",
      "BAC\n",
      "BCA\n",
      "CAB\n",
      "CBA\n"
     ]
    }
   ],
   "source": [
    "from itertools import permutations\n",
    "  \n",
    "def allPermutations(string):\n",
    "    permList = permutations(string)\n",
    "    for i in list(permList):\n",
    "        print (''.join(i))\n",
    "        \n",
    "\n",
    "string = 'ABC'\n",
    "allPermutations(string)"
   ]
  },
  {
   "cell_type": "markdown",
   "id": "b9dbd077",
   "metadata": {},
   "source": [
    "3. Python | Check for URL in a String\n"
   ]
  },
  {
   "cell_type": "code",
   "execution_count": null,
   "id": "fda106ae",
   "metadata": {},
   "outputs": [],
   "source": []
  },
  {
   "cell_type": "markdown",
   "id": "d5963428",
   "metadata": {},
   "source": [
    "4. Execute a String of Code in Python\n"
   ]
  },
  {
   "cell_type": "code",
   "execution_count": 4,
   "id": "2677008a",
   "metadata": {},
   "outputs": [
    {
     "name": "stdout",
     "output_type": "stream",
     "text": [
      "the list doesnot contain even number\n"
     ]
    }
   ],
   "source": [
    "code = \"\"\"\n",
    "numbers = [11,33,55,39,55,75,37,21,23,41,13]\n",
    "for num in numbers:\n",
    "   if num%2 == 0:\n",
    "      print ('the list contains an even number')\n",
    "      break\n",
    "else:\n",
    "   print ('the list doesnot contain even number')\n",
    "\"\"\"\n",
    "exec(code)"
   ]
  },
  {
   "cell_type": "markdown",
   "id": "dbf4ce37",
   "metadata": {},
   "source": [
    "5. String slicing in Python to rotate a string\n"
   ]
  },
  {
   "cell_type": "code",
   "execution_count": 5,
   "id": "34cb1337",
   "metadata": {},
   "outputs": [
    {
     "name": "stdout",
     "output_type": "stream",
     "text": [
      "Rotation :  toshAshu\n"
     ]
    }
   ],
   "source": [
    "def rotate(string,d): \n",
    "    Lfirst = string[0 : d] \n",
    "    Lsecond = string[d :] \n",
    "    print (\"Rotation : \", (Lsecond + Lfirst) )\n",
    "    \n",
    "A = \"Ashutosh\"   \n",
    "rotate(A,4)"
   ]
  },
  {
   "cell_type": "markdown",
   "id": "da3cb4e6",
   "metadata": {},
   "source": [
    "6. String slicing in Python to check if a string can become empty by recursive deletion\n"
   ]
  },
  {
   "cell_type": "code",
   "execution_count": 6,
   "id": "9be6ecad",
   "metadata": {},
   "outputs": [
    {
     "data": {
      "text/plain": [
       "'false'"
      ]
     },
     "execution_count": 6,
     "metadata": {},
     "output_type": "execute_result"
    }
   ],
   "source": [
    "def checkEmpty(input, pattern): \n",
    "    if len(input)== 0 and len(pattern)== 0: \n",
    "         return 'true'\n",
    "    if len(pattern)== 0: \n",
    "         return 'true'\n",
    "    while (len(input) != 0): \n",
    "        index = input.find(pattern) \n",
    "        if (index ==(-1)): \n",
    "            return 'false'\n",
    "        input = input[0:index] + input[index + len(pattern):]              \n",
    "  \n",
    "    return 'true'\n",
    "\n",
    "string = \" hello\"\n",
    "pattern = \"lo\"\n",
    "checkEmpty(string,pattern)"
   ]
  },
  {
   "cell_type": "markdown",
   "id": "50211ade",
   "metadata": {},
   "source": [
    "7. Python Counter| Find all duplicate characters in string\n"
   ]
  },
  {
   "cell_type": "code",
   "execution_count": null,
   "id": "200c68a9",
   "metadata": {},
   "outputs": [],
   "source": []
  },
  {
   "cell_type": "markdown",
   "id": "cdceadd2",
   "metadata": {},
   "source": [
    "8. Python – Replace all occurrences of a substring in a string\n"
   ]
  },
  {
   "cell_type": "code",
   "execution_count": 7,
   "id": "83893cb0",
   "metadata": {},
   "outputs": [
    {
     "name": "stdout",
     "output_type": "stream",
     "text": [
      "Hello Ashutosh\n"
     ]
    }
   ],
   "source": [
    "string = \"Hello iNeuron\"\n",
    "s1 = \"iNeuron\"\n",
    "s2 = \"Ashutosh\"\n",
    "string = string.replace(s1, s2)\n",
    "print(string)"
   ]
  },
  {
   "cell_type": "markdown",
   "id": "12bcfd8a",
   "metadata": {},
   "source": [
    "9. Python – Extract Unique values dictionary values\n"
   ]
  },
  {
   "cell_type": "code",
   "execution_count": 8,
   "id": "cfd6dc50",
   "metadata": {},
   "outputs": [
    {
     "name": "stdout",
     "output_type": "stream",
     "text": [
      "[1, 2, 3, 4, 6]\n"
     ]
    }
   ],
   "source": [
    "Dict = {'a' : [1,2,3,2],\n",
    "        'b' : [2,3,4,2],\n",
    "        'c' : [6,4,3,2]}\n",
    "\n",
    "Unique = list(sorted({j for i in Dict.values() for j in i}))\n",
    "print(str(Unique))"
   ]
  },
  {
   "cell_type": "markdown",
   "id": "952114b3",
   "metadata": {},
   "source": [
    "10. Python program to find the sum of all items in a dictionary"
   ]
  },
  {
   "cell_type": "code",
   "execution_count": 9,
   "id": "962c4980",
   "metadata": {},
   "outputs": [
    {
     "data": {
      "text/plain": [
       "12"
      ]
     },
     "execution_count": 9,
     "metadata": {},
     "output_type": "execute_result"
    }
   ],
   "source": [
    "def sum_all_item(Dict):\n",
    "    l = []\n",
    "    for i in Dict.values():\n",
    "        l.append(i)\n",
    "    return sum(l)\n",
    "\n",
    "Dict = {'a' : 4,\n",
    "        'b' : 2,\n",
    "        'c' : 6}\n",
    "\n",
    "sum_all_item(Dict)"
   ]
  },
  {
   "cell_type": "code",
   "execution_count": null,
   "id": "e6d61090",
   "metadata": {},
   "outputs": [],
   "source": []
  },
  {
   "cell_type": "code",
   "execution_count": null,
   "id": "c7be8d62",
   "metadata": {},
   "outputs": [],
   "source": []
  }
 ],
 "metadata": {
  "kernelspec": {
   "display_name": "Python 3",
   "language": "python",
   "name": "python3"
  },
  "language_info": {
   "codemirror_mode": {
    "name": "ipython",
    "version": 3
   },
   "file_extension": ".py",
   "mimetype": "text/x-python",
   "name": "python",
   "nbconvert_exporter": "python",
   "pygments_lexer": "ipython3",
   "version": "3.8.8"
  }
 },
 "nbformat": 4,
 "nbformat_minor": 5
}
