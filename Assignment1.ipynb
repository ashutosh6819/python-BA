{
 "cells": [
  {
   "cell_type": "markdown",
   "id": "068c7a73",
   "metadata": {},
   "source": [
    "Q1. Write a Python program to find those numbers which are divisible by 7\n",
    "    and multiple of 5, between 1500 and 2700 (both included)."
   ]
  },
  {
   "cell_type": "code",
   "execution_count": 8,
   "id": "6c23cf26",
   "metadata": {},
   "outputs": [
    {
     "name": "stdout",
     "output_type": "stream",
     "text": [
      "1505 1540 1575 1610 1645 1680 1715 1750 1785 1820 1855 1890 1925 1960 1995 2030 2065 2100 2135 2170 2205 2240 2275 2310 2345 2380 2415 2450 2485 2520 2555 2590 2625 2660 2695  are the numbers ,  which are divisible by 7 and multiple of 5, between 1500 and 2700 (both included) \n"
     ]
    }
   ],
   "source": [
    "#Answer\n",
    "for i in range(1500,2701):\n",
    "    if i%7==0 and i%5==0:\n",
    "        print(i,end=\" \")\n",
    "print(' are the numbers ,  which are divisible by 7 and multiple of 5, between 1500 and 2700 (both included) ')"
   ]
  },
  {
   "cell_type": "markdown",
   "id": "6225e01a",
   "metadata": {},
   "source": [
    "Q2. Python program to add two numbers"
   ]
  },
  {
   "cell_type": "code",
   "execution_count": 2,
   "id": "cb6a3b95",
   "metadata": {},
   "outputs": [],
   "source": [
    "#Answer\n",
    "def add(a,b):\n",
    "    return a+b"
   ]
  },
  {
   "cell_type": "markdown",
   "id": "30270ece",
   "metadata": {},
   "source": [
    "Q3. Maximum of two numbers in Python"
   ]
  },
  {
   "cell_type": "code",
   "execution_count": 3,
   "id": "b585a548",
   "metadata": {},
   "outputs": [
    {
     "name": "stdout",
     "output_type": "stream",
     "text": [
      "5\n"
     ]
    }
   ],
   "source": [
    "#Answer\n",
    "def maximum(num1,num2):\n",
    "    if num1>num2:\n",
    "        print(num1)\n",
    "    else :\n",
    "        print(num2)\n",
    "        \n",
    "maximum(2,5)"
   ]
  },
  {
   "cell_type": "markdown",
   "id": "d40f504c",
   "metadata": {},
   "source": [
    "Q4. Python Program for factorial of a number"
   ]
  },
  {
   "cell_type": "code",
   "execution_count": 1,
   "id": "76ca033c",
   "metadata": {},
   "outputs": [
    {
     "name": "stdout",
     "output_type": "stream",
     "text": [
      "Enter the number  10\n",
      "factorial for  10 will be 3628800\n"
     ]
    }
   ],
   "source": [
    "#Answer\n",
    "try:\n",
    "    num = int(input('Enter the number  '))\n",
    "    factorial = 1\n",
    "    if num < 0 :\n",
    "        print('oops!!! no facotrial for -ve number ')\n",
    "    elif num == 0 :\n",
    "        print(' fact check - factorial for 0 is 1')\n",
    "    else :\n",
    "        for i in range(1,num + 1 ):\n",
    "            factorial = factorial * i\n",
    "        print('factorial for ' , num , 'will be' , factorial )\n",
    "except:\n",
    "    print('something is wrong so try the right thing')"
   ]
  },
  {
   "cell_type": "markdown",
   "id": "0f4b3513",
   "metadata": {},
   "source": [
    "Q5. Python Program for simple interest"
   ]
  },
  {
   "cell_type": "code",
   "execution_count": 5,
   "id": "b2523ea5",
   "metadata": {},
   "outputs": [
    {
     "name": "stdout",
     "output_type": "stream",
     "text": [
      "Enter the  Principal Amount - 10000\n",
      "Enter the Rate of Interest in % per annum - 10\n",
      "Enter the Time (in years) - 5\n",
      "Simple interest on your principal will be -  5000.0\n",
      "Total Amount will be -  15000.0\n"
     ]
    }
   ],
   "source": [
    "#Answer\n",
    "#Calculate the simple interset\n",
    "try:\n",
    "    Pricipal = float(input('Enter the  Principal Amount - '))\n",
    "    Rate = float(input('Enter the Rate of Interest in % per annum - '))\n",
    "    Time = float(input('Enter the Time (in years) - '))\n",
    "\n",
    "    simple_interest =  Pricipal*Rate*Time/100\n",
    "\n",
    "    print('Simple interest on your principal will be - ' , simple_interest)\n",
    "    print('Total Amount will be - ', simple_interest+ Pricipal)\n",
    "except:\n",
    "    pass"
   ]
  },
  {
   "cell_type": "markdown",
   "id": "904632bc",
   "metadata": {},
   "source": [
    "Q6. Python Program for compound interest"
   ]
  },
  {
   "cell_type": "code",
   "execution_count": 8,
   "id": "28f17be5",
   "metadata": {},
   "outputs": [
    {
     "name": "stdout",
     "output_type": "stream",
     "text": [
      "Your compound_interest is -  331.00000000000045\n",
      "So your Amount will be -  1331.0000000000005\n"
     ]
    }
   ],
   "source": [
    "#Answer\n",
    "def compound_interst(Pricipal,Rate,Time):\n",
    "        Amount = Pricipal * (pow((1+Rate/100),Time))\n",
    "        CI = Amount - Pricipal\n",
    "        print('Your compound_interest is - ' , CI)\n",
    "        print('So your Amount will be - ' , Amount)\n",
    "    \n",
    "compound_interst(1000,10,3)"
   ]
  },
  {
   "cell_type": "markdown",
   "id": "53a9e0cf",
   "metadata": {},
   "source": [
    "Q7. Python Program to check Armstrong Number"
   ]
  },
  {
   "cell_type": "code",
   "execution_count": 7,
   "id": "a42c5569",
   "metadata": {},
   "outputs": [
    {
     "name": "stdout",
     "output_type": "stream",
     "text": [
      "Enter the number 123\n",
      "the Armstrong number of   123 is 36\n"
     ]
    }
   ],
   "source": [
    "#To find armstrong\n",
    "num = str(input('Enter the number '))\n",
    "a = len(num)\n",
    "b = []\n",
    "Armstrong_number  = 0\n",
    "try:\n",
    "    for i in num :\n",
    "        b.append(int(i)**a)\n",
    "    for i in b:\n",
    "        Armstrong_number = Armstrong_number+i\n",
    "    print( 'the Armstrong number of  ' , num , 'is', Armstrong_number)\n",
    "except:\n",
    "    print('error')"
   ]
  },
  {
   "cell_type": "markdown",
   "id": "79f8682d",
   "metadata": {},
   "source": [
    "Q8. Python Program for Program to find area of a circle"
   ]
  },
  {
   "cell_type": "code",
   "execution_count": 16,
   "id": "67bb65e1",
   "metadata": {},
   "outputs": [
    {
     "name": "stdout",
     "output_type": "stream",
     "text": [
      "Enter the radius - 3\n",
      "the Area of circle is 28.285714285714285\n"
     ]
    }
   ],
   "source": [
    "#Area of circle\n",
    "\n",
    "radius = float(input('Enter the radius - '))\n",
    "\n",
    "pi = 22/7\n",
    "#r = int(input())\n",
    "\n",
    "Area_of_cirlce = pi*radius**2 \n",
    "print('the Area of circle is' , Area_of_cirlce)\n",
    "    "
   ]
  },
  {
   "cell_type": "markdown",
   "id": "227e1fd3",
   "metadata": {},
   "source": [
    "Q9. Python program to print all Prime numbers in an Interval"
   ]
  },
  {
   "cell_type": "code",
   "execution_count": 1,
   "id": "dabae84c",
   "metadata": {},
   "outputs": [
    {
     "name": "stdout",
     "output_type": "stream",
     "text": [
      "2\n",
      "3\n",
      "5\n",
      "7\n",
      "11\n",
      "13\n",
      "17\n",
      "19\n",
      "23\n"
     ]
    }
   ],
   "source": [
    "#Answer\n",
    "def prime_range(n):\n",
    "    #b = []\n",
    "    for i in range(n+1):\n",
    "        if i>1:\n",
    "            for j in range(2,i):\n",
    "                if i%j==0:\n",
    "                    break\n",
    "            else :\n",
    "                #b.append(i)\n",
    "                print(i)\n",
    "prime_range(23)"
   ]
  },
  {
   "cell_type": "markdown",
   "id": "653152a4",
   "metadata": {},
   "source": [
    "Q10. Python program to check whether a number is Prime or not"
   ]
  },
  {
   "cell_type": "code",
   "execution_count": 38,
   "id": "4c534eee",
   "metadata": {},
   "outputs": [
    {
     "name": "stdout",
     "output_type": "stream",
     "text": [
      "Enter the number - 17657\n",
      "17657  is a prime number\n"
     ]
    }
   ],
   "source": [
    "#Answer\n",
    "#check whether a number is Prime or not\n",
    "try:\n",
    "    N = int(input('Enter the number - '))\n",
    "    if N>1:\n",
    "        for i in range(2,N):\n",
    "            if N%i == 0:\n",
    "                print(N , ' Is not a prime number')\n",
    "                break\n",
    "        else :\n",
    "            print(N , ' is a prime number')\n",
    "\n",
    "    else:\n",
    "        print('something is wrong with the number i guess')\n",
    "except:\n",
    "    print('something is wrong with the number i guess')\n",
    "    \n"
   ]
  },
  {
   "cell_type": "code",
   "execution_count": null,
   "id": "111c95a4",
   "metadata": {},
   "outputs": [],
   "source": []
  }
 ],
 "metadata": {
  "kernelspec": {
   "display_name": "Python 3",
   "language": "python",
   "name": "python3"
  },
  "language_info": {
   "codemirror_mode": {
    "name": "ipython",
    "version": 3
   },
   "file_extension": ".py",
   "mimetype": "text/x-python",
   "name": "python",
   "nbconvert_exporter": "python",
   "pygments_lexer": "ipython3",
   "version": "3.8.8"
  }
 },
 "nbformat": 4,
 "nbformat_minor": 5
}
