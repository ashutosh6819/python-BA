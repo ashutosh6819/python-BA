{
 "cells": [
  {
   "cell_type": "markdown",
   "id": "b5720252",
   "metadata": {},
   "source": [
    "Q1. Python Program for Find reminder of array multiplication divided by n"
   ]
  },
  {
   "cell_type": "code",
   "execution_count": null,
   "id": "adcc8e25",
   "metadata": {},
   "outputs": [],
   "source": []
  },
  {
   "cell_type": "markdown",
   "id": "f3126f13",
   "metadata": {},
   "source": [
    "Q2. Python Program to check if given array is Monotonic"
   ]
  },
  {
   "cell_type": "code",
   "execution_count": null,
   "id": "0174e969",
   "metadata": {},
   "outputs": [],
   "source": []
  },
  {
   "cell_type": "markdown",
   "id": "b9510d9e",
   "metadata": {},
   "source": [
    "Q3. Python program to interchange first and last elements in a list"
   ]
  },
  {
   "cell_type": "code",
   "execution_count": 15,
   "id": "61063331",
   "metadata": {},
   "outputs": [
    {
     "data": {
      "text/plain": [
       "[10, 2, 3, 4, 5, 6, 7, 8, 9, 1]"
      ]
     },
     "execution_count": 15,
     "metadata": {},
     "output_type": "execute_result"
    }
   ],
   "source": [
    "#Answer\n",
    "def interchange(list1):\n",
    "    list1[0] , list1[-1] = list1[-1] , list1[0]\n",
    "    return list1\n",
    "list1 = [1,2,3,4,5,6,7,8,9,10]\n",
    "interchange(list1)"
   ]
  },
  {
   "cell_type": "markdown",
   "id": "6303ad46",
   "metadata": {},
   "source": [
    "Q4. Python program to swap two elements in a list"
   ]
  },
  {
   "cell_type": "code",
   "execution_count": null,
   "id": "d53a918c",
   "metadata": {},
   "outputs": [],
   "source": []
  },
  {
   "cell_type": "markdown",
   "id": "e440d111",
   "metadata": {},
   "source": [
    "Q5. write a program to find length of list"
   ]
  },
  {
   "cell_type": "code",
   "execution_count": 24,
   "id": "2dbedd3e",
   "metadata": {},
   "outputs": [
    {
     "data": {
      "text/plain": [
       "11"
      ]
     },
     "execution_count": 24,
     "metadata": {},
     "output_type": "execute_result"
    }
   ],
   "source": [
    "#Answer\n",
    "l = [1,2,3,4,5,6,7,8,9,10,3]\n",
    "len(l)"
   ]
  },
  {
   "cell_type": "markdown",
   "id": "0e148d6e",
   "metadata": {},
   "source": [
    "Q6. write a program to check if element exists in list"
   ]
  },
  {
   "cell_type": "code",
   "execution_count": null,
   "id": "4fa0de65",
   "metadata": {},
   "outputs": [],
   "source": []
  },
  {
   "cell_type": "markdown",
   "id": "44fe8cdc",
   "metadata": {},
   "source": [
    "Q7. write a program to clear a list in Python"
   ]
  },
  {
   "cell_type": "code",
   "execution_count": 28,
   "id": "e4d48821",
   "metadata": {},
   "outputs": [
    {
     "data": {
      "text/plain": [
       "[]"
      ]
     },
     "execution_count": 28,
     "metadata": {},
     "output_type": "execute_result"
    }
   ],
   "source": [
    "l = [1,2,3,4,5,6,7,8,9,10]\n",
    "l.clear()\n",
    "l"
   ]
  },
  {
   "cell_type": "markdown",
   "id": "d278198d",
   "metadata": {},
   "source": [
    "\n",
    "Q8. write a program to Reversing a List"
   ]
  },
  {
   "cell_type": "code",
   "execution_count": 19,
   "id": "50afcb7c",
   "metadata": {},
   "outputs": [
    {
     "data": {
      "text/plain": [
       "[10, 9, 8, 7, 6, 5, 4, 3, 2, 1]"
      ]
     },
     "execution_count": 19,
     "metadata": {},
     "output_type": "execute_result"
    }
   ],
   "source": [
    "#Answer\n",
    "def Reversed(l):\n",
    "    for i in l:\n",
    "        l1 = l[::-1]\n",
    "        return l1\n",
    "l = [1,2,3,4,5,6,7,8,9,10]\n",
    "Reversed(l)"
   ]
  },
  {
   "cell_type": "markdown",
   "id": "092bf68b",
   "metadata": {},
   "source": [
    "Q9. write a program to find sum of elements in list"
   ]
  },
  {
   "cell_type": "code",
   "execution_count": 30,
   "id": "d5c895ef",
   "metadata": {},
   "outputs": [
    {
     "data": {
      "text/plain": [
       "55"
      ]
     },
     "execution_count": 30,
     "metadata": {},
     "output_type": "execute_result"
    }
   ],
   "source": [
    "#Answer\n",
    "def sumlist(l):\n",
    "    l1 = 0\n",
    "    for i in l:\n",
    "        l1 = l1 + i\n",
    "        return l2\n",
    "    \n",
    "l = [1,2,3,4,5,6,7,8,9,10]\n",
    "sumlist(l)"
   ]
  },
  {
   "cell_type": "markdown",
   "id": "de97ca76",
   "metadata": {},
   "source": [
    "Q10. write a program to Multiply all numbers in the list"
   ]
  },
  {
   "cell_type": "code",
   "execution_count": 5,
   "id": "4971d06f",
   "metadata": {},
   "outputs": [
    {
     "name": "stdout",
     "output_type": "stream",
     "text": [
      "3628800\n"
     ]
    }
   ],
   "source": [
    "#Answer\n",
    "multiply = 1\n",
    "l = [1,2,3,4,5,6,7,8,9,10]\n",
    "for i in l:\n",
    "    multiply = multiply *i\n",
    "print(multiply)"
   ]
  },
  {
   "cell_type": "code",
   "execution_count": null,
   "id": "30033a11",
   "metadata": {},
   "outputs": [],
   "source": []
  }
 ],
 "metadata": {
  "kernelspec": {
   "display_name": "Python 3",
   "language": "python",
   "name": "python3"
  },
  "language_info": {
   "codemirror_mode": {
    "name": "ipython",
    "version": 3
   },
   "file_extension": ".py",
   "mimetype": "text/x-python",
   "name": "python",
   "nbconvert_exporter": "python",
   "pygments_lexer": "ipython3",
   "version": "3.8.8"
  }
 },
 "nbformat": 4,
 "nbformat_minor": 5
}
