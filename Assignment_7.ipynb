{
 "cells": [
  {
   "cell_type": "markdown",
   "id": "37c6a0a4",
   "metadata": {},
   "source": [
    "1. Reverse words in a given String in Python"
   ]
  },
  {
   "cell_type": "code",
   "execution_count": 1,
   "id": "ae5d449d",
   "metadata": {},
   "outputs": [
    {
     "data": {
      "text/plain": [
       "'happening it is'"
      ]
     },
     "execution_count": 1,
     "metadata": {},
     "output_type": "execute_result"
    }
   ],
   "source": [
    "def rev_words(_string):\n",
    "    rev_1 = _string.split()\n",
    "    rev_2 = ' '.join(reversed(rev_1))\n",
    "    return rev_2\n",
    "\n",
    "check = 'is it happening'\n",
    "rev_words(check)"
   ]
  },
  {
   "cell_type": "markdown",
   "id": "860cd5f8",
   "metadata": {},
   "source": [
    "2. Ways to remove i’th character from string in Python"
   ]
  },
  {
   "cell_type": "code",
   "execution_count": 5,
   "id": "a55aa011",
   "metadata": {},
   "outputs": [
    {
     "data": {
      "text/plain": [
       "'asjbjbd dfbfjbk ijvf sihsfh'"
      ]
     },
     "execution_count": 5,
     "metadata": {},
     "output_type": "execute_result"
    }
   ],
   "source": [
    "def func4(string,Num):\n",
    "    \n",
    "    l = []\n",
    "    s1 = string.split()\n",
    "    for i,j in enumerate(s1):\n",
    "        if i !=(Num-1) :\n",
    "            l.append(j)\n",
    "    return ' '.join(l)\n",
    "        \n",
    "a = 'asjbjbd uuvhfiov dfbfjbk ijvf sihsfh'\n",
    "Num = 2\n",
    "func4(a,Num)"
   ]
  },
  {
   "cell_type": "markdown",
   "id": "b9cc2ff8",
   "metadata": {},
   "source": [
    "3. Python | Check if a Substring is Present in a Given String"
   ]
  },
  {
   "cell_type": "code",
   "execution_count": null,
   "id": "0849cabf",
   "metadata": {},
   "outputs": [],
   "source": [
    "def check(string, sub_str): \n",
    "    if (string.count(sub_str)):     \n",
    "        print(\"YES\") \n",
    "    else: \n",
    "        print(\"NO\") \n",
    "        \n",
    "        \n",
    "string = \" it's too heavy\"\n",
    "sub_str = \"heavy\"\n",
    "check(string,sub_str)"
   ]
  },
  {
   "cell_type": "markdown",
   "id": "d9e27898",
   "metadata": {},
   "source": [
    "4. Python – Words Frequency in String Shorthands"
   ]
  },
  {
   "cell_type": "code",
   "execution_count": 4,
   "id": "114ebf7f",
   "metadata": {},
   "outputs": [
    {
     "name": "stdout",
     "output_type": "stream",
     "text": [
      "1 asjbjbd\n",
      "2 uuvhfiov\n",
      "3 dfbfjbk\n",
      "4 ijvf\n",
      "5 sihsfh\n"
     ]
    }
   ],
   "source": [
    "def word_frequency(string):\n",
    "    \n",
    "    s1 = string.split()\n",
    "    for i,j in enumerate(s1):\n",
    "        print(i+1,j)\n",
    "        \n",
    "a = 'asjbjbd uuvhfiov dfbfjbk ijvf sihsfh'\n",
    "word_frequency(a)"
   ]
  },
  {
   "cell_type": "markdown",
   "id": "fb5b7553",
   "metadata": {},
   "source": [
    "5. Python – Convert Snake case to Pascal case"
   ]
  },
  {
   "cell_type": "code",
   "execution_count": 6,
   "id": "ab4c3e79",
   "metadata": {},
   "outputs": [
    {
     "data": {
      "text/plain": [
       "\"It's just a try\""
      ]
     },
     "execution_count": 6,
     "metadata": {},
     "output_type": "execute_result"
    }
   ],
   "source": [
    "a = \"It's_just_a_try\"\n",
    "a.replace(\"_\",\" \")"
   ]
  },
  {
   "cell_type": "markdown",
   "id": "a184f37c",
   "metadata": {},
   "source": [
    "6. Find length of a string in python (4 ways)\n"
   ]
  },
  {
   "cell_type": "code",
   "execution_count": 15,
   "id": "446c2753",
   "metadata": {},
   "outputs": [
    {
     "name": "stdout",
     "output_type": "stream",
     "text": [
      "6\n",
      "6\n",
      "6\n"
     ]
    },
    {
     "data": {
      "text/plain": [
       "'😶'"
      ]
     },
     "execution_count": 15,
     "metadata": {},
     "output_type": "execute_result"
    }
   ],
   "source": [
    "a = \" good \"\n",
    "\n",
    "#1\n",
    "e = []\n",
    "for i,j in enumerate(a):\n",
    "    e.append(i)\n",
    "print(i+1)\n",
    "\n",
    "#2\n",
    "count = 0\n",
    "for i in a:\n",
    "    count += 1\n",
    "print(count)\n",
    "\n",
    "#3\n",
    "print(len(a))\n",
    "\n",
    "#4\n",
    "\"😶\""
   ]
  },
  {
   "cell_type": "markdown",
   "id": "e124138e",
   "metadata": {},
   "source": [
    "7. Python program to print even length words in a string\n"
   ]
  },
  {
   "cell_type": "code",
   "execution_count": 16,
   "id": "3f955ab4",
   "metadata": {},
   "outputs": [
    {
     "name": "stdout",
     "output_type": "stream",
     "text": [
      "It's\n",
      "just\n"
     ]
    }
   ],
   "source": [
    "a = \"It's just a try\"\n",
    "a = a.split()\n",
    "for i in a:\n",
    "    if len(i)%2==0:\n",
    "        print(i)"
   ]
  },
  {
   "cell_type": "markdown",
   "id": "cebdb624",
   "metadata": {},
   "source": [
    "8. Python program to accept the strings which contains all vowels\n"
   ]
  },
  {
   "cell_type": "code",
   "execution_count": null,
   "id": "4d99c56d",
   "metadata": {},
   "outputs": [],
   "source": [
    "def check(string) :\n",
    " \n",
    "    string = string.lower()\n",
    "    vowels = set(\"aeiou\")\n",
    "    s = set({})\n",
    "\n",
    "    for char in string :\n",
    "        if char in vowels :\n",
    "            s.add(char)\n",
    "        else:\n",
    "            pass\n",
    "\n",
    "    if len(s) == len(vowels) :\n",
    "        print(\"Accepted\")\n",
    "    else :\n",
    "        print(\"Not Accepted\")\n",
    "        \n",
    "        \n",
    "string = \"SEEquoiaL\"\n",
    "check(string)"
   ]
  },
  {
   "cell_type": "markdown",
   "id": "5075dd82",
   "metadata": {},
   "source": [
    "9. Python | Count the Number of matching characters in a pair of string\n"
   ]
  },
  {
   "cell_type": "code",
   "execution_count": 21,
   "id": "b7d92495",
   "metadata": {},
   "outputs": [
    {
     "name": "stdout",
     "output_type": "stream",
     "text": [
      "6\n"
     ]
    }
   ],
   "source": [
    "import re\n",
    "str1 = \"ashutosh\"\n",
    "str2 = \"ashu\"\n",
    "count = 0\n",
    "for i in str1:\n",
    "    if re.search(i,str2):\n",
    "        count+=1\n",
    "print(count)"
   ]
  },
  {
   "cell_type": "markdown",
   "id": "cd7ee521",
   "metadata": {},
   "source": [
    "10. Remove all duplicates from a given string in Python"
   ]
  },
  {
   "cell_type": "code",
   "execution_count": 4,
   "id": "852ff270",
   "metadata": {},
   "outputs": [
    {
     "name": "stdout",
     "output_type": "stream",
     "text": [
      "this workng\n"
     ]
    }
   ],
   "source": [
    "def remove_dubli(string):\n",
    "    t=\"\"\n",
    "    for i in string:\n",
    "        if i in t:\n",
    "            pass\n",
    "        else :\n",
    "            t+=i\n",
    "    print(t)\n",
    "            \n",
    "s = \"this is working\"\n",
    "remove_dubli(s)"
   ]
  },
  {
   "cell_type": "code",
   "execution_count": null,
   "id": "f21ddcb4",
   "metadata": {},
   "outputs": [],
   "source": []
  }
 ],
 "metadata": {
  "kernelspec": {
   "display_name": "Python 3",
   "language": "python",
   "name": "python3"
  },
  "language_info": {
   "codemirror_mode": {
    "name": "ipython",
    "version": 3
   },
   "file_extension": ".py",
   "mimetype": "text/x-python",
   "name": "python",
   "nbconvert_exporter": "python",
   "pygments_lexer": "ipython3",
   "version": "3.8.8"
  }
 },
 "nbformat": 4,
 "nbformat_minor": 5
}
