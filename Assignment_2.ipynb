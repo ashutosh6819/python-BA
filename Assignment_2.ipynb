{
 "cells": [
  {
   "cell_type": "markdown",
   "id": "927eed16",
   "metadata": {},
   "source": [
    "1. Python Program for n-th Fibonacci number"
   ]
  },
  {
   "cell_type": "code",
   "execution_count": 10,
   "id": "ec695f99",
   "metadata": {},
   "outputs": [
    {
     "data": {
      "text/plain": [
       "[0, 1, 1, 2, 3, 5, 8, 13, 21, 34, 55, 89, 144]"
      ]
     },
     "execution_count": 10,
     "metadata": {},
     "output_type": "execute_result"
    }
   ],
   "source": [
    "def fib_n(f):\n",
    "    a = 1\n",
    "    b = 1\n",
    "    output = [0]\n",
    "    for i in range(f):\n",
    "        output.append(a)\n",
    "        a , b = b , a+b\n",
    "    return output\n",
    "\n",
    "fib_n(12)"
   ]
  },
  {
   "cell_type": "markdown",
   "id": "183ba95d",
   "metadata": {},
   "source": [
    "2. Python Program for How to check if a given number is Fibonacci number?"
   ]
  },
  {
   "cell_type": "code",
   "execution_count": 12,
   "id": "30db7bb3",
   "metadata": {},
   "outputs": [
    {
     "name": "stdout",
     "output_type": "stream",
     "text": [
      " oh!!!.. it's not \n"
     ]
    }
   ],
   "source": [
    "def check_fib(f):\n",
    "    a = 1\n",
    "    b = 1\n",
    "    output = []\n",
    "    for i in range(f):\n",
    "        output.append(a)\n",
    "        a , b = b , a+b\n",
    "    if f == a :\n",
    "        print('yes it is')\n",
    "    else :\n",
    "        print(\" oh!!!.. it's not \")\n",
    "            \n",
    "check_fib(4)"
   ]
  },
  {
   "cell_type": "markdown",
   "id": "9ee6904c",
   "metadata": {},
   "source": [
    "3. Python Program for n\\’th multiple of a number in Fibonacci Series"
   ]
  },
  {
   "cell_type": "code",
   "execution_count": 1,
   "id": "db96d4a2",
   "metadata": {},
   "outputs": [
    {
     "data": {
      "text/plain": [
       "34"
      ]
     },
     "execution_count": 1,
     "metadata": {},
     "output_type": "execute_result"
    }
   ],
   "source": [
    "def fib_nth(range_a,multiple,n_th):\n",
    "    num1 = 1\n",
    "    num2 = 1\n",
    "    l1 = []\n",
    "    l2 = [0]\n",
    "    for i in range(range_a):\n",
    "        l1.append(num1)\n",
    "        num1 , num2 = num2 , num1+num2\n",
    "    for j in l1:\n",
    "        if j%multiple==0:\n",
    "            l2.append(j)\n",
    "    return l2[n_th]\n",
    "\n",
    "fib_nth(100,2,3)"
   ]
  },
  {
   "cell_type": "markdown",
   "id": "ea2e03b2",
   "metadata": {},
   "source": [
    "4. Program to print ASCII Value of a character"
   ]
  },
  {
   "cell_type": "code",
   "execution_count": null,
   "id": "b13d4b62",
   "metadata": {},
   "outputs": [],
   "source": []
  },
  {
   "cell_type": "markdown",
   "id": "e5a65ec8",
   "metadata": {},
   "source": [
    "5. Python Program for Sum of squares of first n natural numbers"
   ]
  },
  {
   "cell_type": "code",
   "execution_count": 18,
   "id": "4e36698c",
   "metadata": {},
   "outputs": [
    {
     "data": {
      "text/plain": [
       "30"
      ]
     },
     "execution_count": 18,
     "metadata": {},
     "output_type": "execute_result"
    }
   ],
   "source": [
    "def sq_to_nth(s):\n",
    "    q = []\n",
    "    for i in range(s+1):\n",
    "        i = i**2\n",
    "        q.append(i)\n",
    "    return sum(q)\n",
    "\n",
    "sq_to_nth(4)"
   ]
  },
  {
   "cell_type": "markdown",
   "id": "070b4724",
   "metadata": {},
   "source": [
    "6. Python Program for cube sum of first n natural numbers"
   ]
  },
  {
   "cell_type": "code",
   "execution_count": 19,
   "id": "b55fd51e",
   "metadata": {},
   "outputs": [
    {
     "data": {
      "text/plain": [
       "784"
      ]
     },
     "execution_count": 19,
     "metadata": {},
     "output_type": "execute_result"
    }
   ],
   "source": [
    "def cube_to_nth(c):\n",
    "    q = []\n",
    "    for i in range(c+1):\n",
    "        i = i**3\n",
    "        q.append(i)\n",
    "    return sum(q)\n",
    "\n",
    "cube_to_nth(7)"
   ]
  },
  {
   "cell_type": "markdown",
   "id": "af6836d2",
   "metadata": {},
   "source": [
    "7. Python Program to find sum of array"
   ]
  },
  {
   "cell_type": "code",
   "execution_count": 3,
   "id": "2e8e8297",
   "metadata": {},
   "outputs": [
    {
     "data": {
      "text/plain": [
       "42"
      ]
     },
     "execution_count": 3,
     "metadata": {},
     "output_type": "execute_result"
    }
   ],
   "source": [
    "def sum_arr(arr):\n",
    "    A = 0\n",
    "    for i in arr:\n",
    "        A = A+i\n",
    "    return A\n",
    "    \n",
    "arr = [1,2,34,5]\n",
    "sum_arr(arr)"
   ]
  },
  {
   "cell_type": "markdown",
   "id": "18052163",
   "metadata": {},
   "source": [
    "8. Python Program to find largest element in an array"
   ]
  },
  {
   "cell_type": "code",
   "execution_count": 5,
   "id": "5c4e76f2",
   "metadata": {},
   "outputs": [
    {
     "data": {
      "text/plain": [
       "43"
      ]
     },
     "execution_count": 5,
     "metadata": {},
     "output_type": "execute_result"
    }
   ],
   "source": [
    "def largest_el(list_name):\n",
    "    list_name.sort\n",
    "    return list_name[-1]\n",
    "\n",
    "list_name = [ 1,2,3,4,5,3,2,1,3,9,6,43]\n",
    "largest_el(list_name)"
   ]
  },
  {
   "cell_type": "markdown",
   "id": "370c53e3",
   "metadata": {},
   "source": [
    "9. Python Program for array rotation"
   ]
  },
  {
   "cell_type": "code",
   "execution_count": null,
   "id": "c3752fa7",
   "metadata": {},
   "outputs": [],
   "source": []
  },
  {
   "cell_type": "markdown",
   "id": "cf92ff71",
   "metadata": {},
   "source": [
    "10. Python Program for Reversal algorithm for array rotation"
   ]
  },
  {
   "cell_type": "code",
   "execution_count": null,
   "id": "37ad8f98",
   "metadata": {},
   "outputs": [],
   "source": []
  },
  {
   "cell_type": "markdown",
   "id": "b32aab83",
   "metadata": {},
   "source": [
    "11. Python Program to Split the array and add the first part to the end"
   ]
  },
  {
   "cell_type": "code",
   "execution_count": null,
   "id": "ad4bb9c2",
   "metadata": {},
   "outputs": [],
   "source": []
  }
 ],
 "metadata": {
  "kernelspec": {
   "display_name": "Python 3",
   "language": "python",
   "name": "python3"
  },
  "language_info": {
   "codemirror_mode": {
    "name": "ipython",
    "version": 3
   },
   "file_extension": ".py",
   "mimetype": "text/x-python",
   "name": "python",
   "nbconvert_exporter": "python",
   "pygments_lexer": "ipython3",
   "version": "3.8.8"
  }
 },
 "nbformat": 4,
 "nbformat_minor": 5
}
