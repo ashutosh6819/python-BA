{
 "cells": [
  {
   "cell_type": "markdown",
   "id": "927eed16",
   "metadata": {},
   "source": [
    "1. Python Program for n-th Fibonacci number"
   ]
  },
  {
   "cell_type": "code",
   "execution_count": null,
   "id": "ec695f99",
   "metadata": {},
   "outputs": [],
   "source": []
  },
  {
   "cell_type": "markdown",
   "id": "183ba95d",
   "metadata": {},
   "source": [
    "2. Python Program for How to check if a given number is Fibonacci number?"
   ]
  },
  {
   "cell_type": "code",
   "execution_count": null,
   "id": "30db7bb3",
   "metadata": {},
   "outputs": [],
   "source": []
  },
  {
   "cell_type": "markdown",
   "id": "9ee6904c",
   "metadata": {},
   "source": [
    "3. Python Program for n\\’th multiple of a number in Fibonacci Series"
   ]
  },
  {
   "cell_type": "code",
   "execution_count": null,
   "id": "db96d4a2",
   "metadata": {},
   "outputs": [],
   "source": []
  },
  {
   "cell_type": "markdown",
   "id": "ea2e03b2",
   "metadata": {},
   "source": [
    "4. Program to print ASCII Value of a character"
   ]
  },
  {
   "cell_type": "code",
   "execution_count": null,
   "id": "b13d4b62",
   "metadata": {},
   "outputs": [],
   "source": []
  },
  {
   "cell_type": "markdown",
   "id": "e5a65ec8",
   "metadata": {},
   "source": [
    "5. Python Program for Sum of squares of first n natural numbers"
   ]
  },
  {
   "cell_type": "code",
   "execution_count": null,
   "id": "4e36698c",
   "metadata": {},
   "outputs": [],
   "source": []
  },
  {
   "cell_type": "markdown",
   "id": "070b4724",
   "metadata": {},
   "source": [
    "6. Python Program for cube sum of first n natural numbers"
   ]
  },
  {
   "cell_type": "code",
   "execution_count": null,
   "id": "b55fd51e",
   "metadata": {},
   "outputs": [],
   "source": []
  },
  {
   "cell_type": "markdown",
   "id": "af6836d2",
   "metadata": {},
   "source": [
    "7. Python Program to find sum of array"
   ]
  },
  {
   "cell_type": "code",
   "execution_count": null,
   "id": "2e8e8297",
   "metadata": {},
   "outputs": [],
   "source": []
  },
  {
   "cell_type": "markdown",
   "id": "18052163",
   "metadata": {},
   "source": [
    "8. Python Program to find largest element in an array"
   ]
  },
  {
   "cell_type": "code",
   "execution_count": null,
   "id": "5c4e76f2",
   "metadata": {},
   "outputs": [],
   "source": []
  },
  {
   "cell_type": "markdown",
   "id": "370c53e3",
   "metadata": {},
   "source": [
    "9. Python Program for array rotation"
   ]
  },
  {
   "cell_type": "code",
   "execution_count": null,
   "id": "c3752fa7",
   "metadata": {},
   "outputs": [],
   "source": []
  },
  {
   "cell_type": "markdown",
   "id": "cf92ff71",
   "metadata": {},
   "source": [
    "10. Python Program for Reversal algorithm for array rotation"
   ]
  },
  {
   "cell_type": "code",
   "execution_count": null,
   "id": "37ad8f98",
   "metadata": {},
   "outputs": [],
   "source": []
  },
  {
   "cell_type": "markdown",
   "id": "b32aab83",
   "metadata": {},
   "source": [
    "11. Python Program to Split the array and add the first part to the end"
   ]
  }
 ],
 "metadata": {
  "kernelspec": {
   "display_name": "Python 3",
   "language": "python",
   "name": "python3"
  },
  "language_info": {
   "codemirror_mode": {
    "name": "ipython",
    "version": 3
   },
   "file_extension": ".py",
   "mimetype": "text/x-python",
   "name": "python",
   "nbconvert_exporter": "python",
   "pygments_lexer": "ipython3",
   "version": "3.8.8"
  }
 },
 "nbformat": 4,
 "nbformat_minor": 5
}
