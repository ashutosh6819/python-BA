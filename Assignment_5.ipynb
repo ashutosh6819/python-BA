{
 "cells": [
  {
   "cell_type": "markdown",
   "id": "b7191a26",
   "metadata": {},
   "source": [
    "1. Python program to print all negative numbers in a range"
   ]
  },
  {
   "cell_type": "code",
   "execution_count": 3,
   "id": "a1165b46",
   "metadata": {},
   "outputs": [
    {
     "name": "stdout",
     "output_type": "stream",
     "text": [
      "Enter the number from -4\n",
      "Enter the number to 4\n",
      "-4 -3 -2 -1 are the negative number \n"
     ]
    }
   ],
   "source": [
    "start = int(input('Enter the number from '  ))\n",
    "end = int(input('Enter the number to ' ))\n",
    "for num in range(start,end):\n",
    "    if num < 0 :\n",
    "        print(num , end = ' ')\n",
    "print('are the negative number ')"
   ]
  },
  {
   "cell_type": "markdown",
   "id": "28a87b8e",
   "metadata": {},
   "source": [
    "2. Remove multiple elements from a list in Python"
   ]
  },
  {
   "cell_type": "code",
   "execution_count": 1,
   "id": "5062d0ca",
   "metadata": {},
   "outputs": [
    {
     "data": {
      "text/plain": [
       "[1, 3, 6, 6, 3, 3, 6]"
      ]
     },
     "execution_count": 1,
     "metadata": {},
     "output_type": "execute_result"
    }
   ],
   "source": [
    "def remove_in_multy(list_name, unwanted_list):\n",
    "    for k in range(len(unwanted_list)):\n",
    "        for i in list_name:\n",
    "            for j in unwanted_list:\n",
    "                if j == i :\n",
    "                    list_name.remove(j)\n",
    "    return list_name\n",
    "\n",
    "l1 = [1,2,3,4,2,2,2,2,5,6,5,6,5,3,2,5,3,4,6]\n",
    "unwanted_list = [4,5,2]\n",
    "remove_in_multy(l1,unwanted_list)"
   ]
  },
  {
   "cell_type": "markdown",
   "id": "c214e82f",
   "metadata": {},
   "source": [
    "3. write a Python program to Remove empty List from List"
   ]
  },
  {
   "cell_type": "code",
   "execution_count": 3,
   "id": "25862ae1",
   "metadata": {},
   "outputs": [
    {
     "data": {
      "text/plain": [
       "[1, 2, 3, 4, 4, 5, 6, 7, 8]"
      ]
     },
     "execution_count": 3,
     "metadata": {},
     "output_type": "execute_result"
    }
   ],
   "source": [
    "def remove_empty(list_name):\n",
    "    for i in range(len(list_name)):\n",
    "        for empty in list_name :\n",
    "            if empty == []:\n",
    "                list_name.remove(empty)\n",
    "                \n",
    "                \n",
    "l1 = [1,2,3,4,[],4,5,[],6,7,8]\n",
    "remove_empty(l1)\n",
    "l1"
   ]
  },
  {
   "cell_type": "markdown",
   "id": "22ad3155",
   "metadata": {},
   "source": [
    "4. write a Python program to Cloning or Copying a list"
   ]
  },
  {
   "cell_type": "code",
   "execution_count": 16,
   "id": "6a19ba86",
   "metadata": {},
   "outputs": [
    {
     "data": {
      "text/plain": [
       "[1, 2, 3, 4, 5, 6]"
      ]
     },
     "execution_count": 16,
     "metadata": {},
     "output_type": "execute_result"
    }
   ],
   "source": [
    "def clone_list(list_name,cloning_list_name):\n",
    "    for i in list_name:\n",
    "        cloning_list_name.append(i)\n",
    "    return cloning_list_name\n",
    "\n",
    "l1 = [1,2,3,4,5,6]\n",
    "l2 = []\n",
    "clone_list(l1,l2)"
   ]
  },
  {
   "cell_type": "markdown",
   "id": "01a8e209",
   "metadata": {},
   "source": [
    "5. write a Python program to Count occurrences of an element in a list"
   ]
  },
  {
   "cell_type": "code",
   "execution_count": 8,
   "id": "2ef176ca",
   "metadata": {},
   "outputs": [
    {
     "data": {
      "text/plain": [
       "2"
      ]
     },
     "execution_count": 8,
     "metadata": {},
     "output_type": "execute_result"
    }
   ],
   "source": [
    "def el_occurrences(list_name, element):\n",
    "    A = []\n",
    "    for i in list_name:\n",
    "        if element == i :\n",
    "            A.append(i)\n",
    "    return len(A)\n",
    "\n",
    "l1 = [1,22,33,43,2,43,4,2,4,32,32,44,3,43]\n",
    "el_occurrences(l1,2)"
   ]
  },
  {
   "cell_type": "markdown",
   "id": "2c5f9609",
   "metadata": {},
   "source": [
    "6. write a Python program to Remove empty tuples from a list"
   ]
  },
  {
   "cell_type": "code",
   "execution_count": 8,
   "id": "d82388f6",
   "metadata": {},
   "outputs": [
    {
     "data": {
      "text/plain": [
       "[1, 2, 3, 4, 5, 6, 7, 8, 9, 8, 7, 6, 5, 4, 3, 2, 1]"
      ]
     },
     "execution_count": 8,
     "metadata": {},
     "output_type": "execute_result"
    }
   ],
   "source": [
    "def remove_empty_tuples(list_name):\n",
    "    for i in range(len(list_name)):\n",
    "        for empty in list_name :\n",
    "            if empty == ():\n",
    "                list_name.remove(empty)\n",
    "                \n",
    "l1 = [1,2,3,4,(),5,6,7,8,9,(),8,7,6,(),5,4,3,(),2,1]\n",
    "remove_empty_tuples(l1)\n",
    "l1"
   ]
  },
  {
   "cell_type": "markdown",
   "id": "f43ea413",
   "metadata": {},
   "source": [
    "7. write a Python program to Program to print duplicates from a list of integers"
   ]
  },
  {
   "cell_type": "code",
   "execution_count": null,
   "id": "3c4dd2de",
   "metadata": {},
   "outputs": [],
   "source": [
    "def duplicate(list_name):\n",
    "    list_1 = len(list_name)\n",
    "    dupli = []\n",
    "    for i in range(list_1):\n",
    "        B = i + 1\n",
    "        for j in range(B, list_1):\n",
    "            if list_name[i] == list_name[j] and list_name[i] not in dupli:\n",
    "                dupli.append(list_name[i])\n",
    "    return dupli\n",
    "\n",
    "a = [12,3,4,4,4,3,3,2,3,2,4,5]\n",
    "\n",
    "\n",
    "duplicate(a)\n"
   ]
  },
  {
   "cell_type": "markdown",
   "id": "fb9ef1cd",
   "metadata": {},
   "source": [
    "8. write a Python program to find Cumulative sum of a list"
   ]
  },
  {
   "cell_type": "code",
   "execution_count": 1,
   "id": "18c9ce59",
   "metadata": {},
   "outputs": [
    {
     "name": "stdout",
     "output_type": "stream",
     "text": [
      "[1, 3, 6, 10, 15, 21, 28, 36, 45, 55]\n",
      "55\n"
     ]
    }
   ],
   "source": [
    "#for cumulative numbers - \n",
    "def cumulative_list(l):\n",
    "    l1 = 0\n",
    "    l2 = []\n",
    "    for i in l:\n",
    "        l1 = l1 + i\n",
    "        l2.append(l1)\n",
    "    print (l2)\n",
    "    \n",
    "l = [1,2,3,4,5,6,7,8,9,10]\n",
    "cumulative_list(l)\n",
    "\n",
    "#for cumulative sum - \n",
    "\n",
    "def cumulative_list(l):\n",
    "    l1 = 0\n",
    "    l2 = []\n",
    "    for i in l:\n",
    "        l1 = l1 + i\n",
    "        l2.append(l1)\n",
    "    print (l2[-1])\n",
    "    \n",
    "l = [1,2,3,4,5,6,7,8,9,10]\n",
    "cumulative_list(l)"
   ]
  },
  {
   "cell_type": "markdown",
   "id": "ebedfc95",
   "metadata": {},
   "source": [
    "9. write a Python program to Sum of number digits in List"
   ]
  },
  {
   "cell_type": "code",
   "execution_count": null,
   "id": "32c39728",
   "metadata": {},
   "outputs": [],
   "source": []
  },
  {
   "cell_type": "markdown",
   "id": "9e9b615f",
   "metadata": {},
   "source": [
    "10. write a Python program to Break a list into chunks of size N"
   ]
  },
  {
   "cell_type": "code",
   "execution_count": null,
   "id": "f016ce0f",
   "metadata": {},
   "outputs": [],
   "source": []
  },
  {
   "cell_type": "markdown",
   "id": "d3639e28",
   "metadata": {},
   "source": [
    "11. write a Python program to Sort the values of first list using second list"
   ]
  },
  {
   "cell_type": "code",
   "execution_count": null,
   "id": "567f5739",
   "metadata": {},
   "outputs": [],
   "source": []
  }
 ],
 "metadata": {
  "kernelspec": {
   "display_name": "Python 3",
   "language": "python",
   "name": "python3"
  },
  "language_info": {
   "codemirror_mode": {
    "name": "ipython",
    "version": 3
   },
   "file_extension": ".py",
   "mimetype": "text/x-python",
   "name": "python",
   "nbconvert_exporter": "python",
   "pygments_lexer": "ipython3",
   "version": "3.8.8"
  }
 },
 "nbformat": 4,
 "nbformat_minor": 5
}
