{
 "cells": [
  {
   "cell_type": "markdown",
   "id": "46f69362",
   "metadata": {},
   "source": [
    "1. Python program to add two Matrices"
   ]
  },
  {
   "cell_type": "code",
   "execution_count": 17,
   "id": "9bcb3554",
   "metadata": {},
   "outputs": [
    {
     "name": "stdout",
     "output_type": "stream",
     "text": [
      "[10, 10, 10]\n",
      "[10, 10, 10]\n",
      "[10, 10, 10]\n"
     ]
    }
   ],
   "source": [
    "X = [[1,2,3],\n",
    "    [4 ,5,6],\n",
    "    [7 ,8,9]]\n",
    " \n",
    "Y = [[9,8,7],\n",
    "    [6,5,4],\n",
    "    [3,2,1]]\n",
    "\n",
    "result = [[0,0,0],\n",
    "        [0,0,0],\n",
    "        [0,0,0]]\n",
    " \n",
    "for i in range(len(X)):  \n",
    "    for j in range(len(X[0])):\n",
    "        result[i][j] = X[i][j] + Y[i][j]\n",
    " \n",
    "for r in result:\n",
    "    print(r)"
   ]
  },
  {
   "cell_type": "markdown",
   "id": "dc4099be",
   "metadata": {},
   "source": [
    "2. Python program to multiply two matrices"
   ]
  },
  {
   "cell_type": "code",
   "execution_count": 18,
   "id": "38d0bdf9",
   "metadata": {},
   "outputs": [
    {
     "name": "stdout",
     "output_type": "stream",
     "text": [
      "[30, 24, 18]\n",
      "[84, 69, 54]\n",
      "[138, 114, 90]\n"
     ]
    }
   ],
   "source": [
    "X = [[1,2,3],\n",
    "    [4 ,5,6],\n",
    "    [7 ,8,9]]\n",
    " \n",
    "Y = [[9,8,7],\n",
    "    [6,5,4],\n",
    "    [3,2,1]]\n",
    "\n",
    "result = [[0,0,0],\n",
    "        [0,0,0],\n",
    "        [0,0,0]]\n",
    "\n",
    "for i in range(len(X)):\n",
    "    for j in range(len(Y[0])):\n",
    "        for k in range(len(Y)):\n",
    "            result[i][j] += X[i][k] * Y[k][j]\n",
    "            \n",
    "            \n",
    "for r in result:\n",
    "    print(r)"
   ]
  },
  {
   "cell_type": "markdown",
   "id": "e688b174",
   "metadata": {},
   "source": [
    "3. Python program for Matrix Product"
   ]
  },
  {
   "cell_type": "code",
   "execution_count": null,
   "id": "4e60bcc1",
   "metadata": {},
   "outputs": [],
   "source": []
  },
  {
   "cell_type": "markdown",
   "id": "9f48ff9a",
   "metadata": {},
   "source": [
    "4. Adding and Subtracting Matrices in Python"
   ]
  },
  {
   "cell_type": "code",
   "execution_count": 20,
   "id": "ebad4efd",
   "metadata": {},
   "outputs": [
    {
     "name": "stdout",
     "output_type": "stream",
     "text": [
      "[[-3 -3]\n",
      " [-3 -3]]\n",
      "[[ 5  7]\n",
      " [ 9 11]]\n"
     ]
    }
   ],
   "source": [
    "import numpy as np\n",
    "\n",
    "X = np.array([[1,2],[3,4]])\n",
    "Y = np.array([[4,5],[6,7]])\n",
    "\n",
    "#subtraction of two matrix\n",
    "\n",
    "print(np.subtract(X,Y))\n",
    "\n",
    "#Addition of two matrix\n",
    "\n",
    "print(np.add(X,Y))\n"
   ]
  },
  {
   "cell_type": "markdown",
   "id": "bc5e990b",
   "metadata": {},
   "source": [
    "5. Transpose a matrix in Single line in Python"
   ]
  },
  {
   "cell_type": "code",
   "execution_count": 26,
   "id": "992217d7",
   "metadata": {},
   "outputs": [
    {
     "data": {
      "text/plain": [
       "array([[1, 4, 7],\n",
       "       [2, 5, 8],\n",
       "       [3, 6, 9]])"
      ]
     },
     "execution_count": 26,
     "metadata": {},
     "output_type": "execute_result"
    }
   ],
   "source": [
    "X = ([[1,2,3],[4 ,5,6],[7 ,8,9]])\n",
    "\n",
    "import numpy as np\n",
    "np.transpose(X)"
   ]
  },
  {
   "cell_type": "markdown",
   "id": "3f6cc72e",
   "metadata": {},
   "source": [
    "6. Python | Matrix creation of n*n"
   ]
  },
  {
   "cell_type": "code",
   "execution_count": 45,
   "id": "640e506c",
   "metadata": {},
   "outputs": [
    {
     "name": "stdout",
     "output_type": "stream",
     "text": [
      "6\n"
     ]
    },
    {
     "data": {
      "text/plain": [
       "[[1, 2, 3, 4, 5, 6],\n",
       " [7, 8, 9, 10, 11, 12],\n",
       " [13, 14, 15, 16, 17, 18],\n",
       " [19, 20, 21, 22, 23, 24],\n",
       " [25, 26, 27, 28, 29, 30],\n",
       " [31, 32, 33, 34, 35, 36]]"
      ]
     },
     "execution_count": 45,
     "metadata": {},
     "output_type": "execute_result"
    }
   ],
   "source": [
    "N = int(input())\n",
    "A = []\n",
    "\n",
    "for i in range(N):\n",
    "    A.append((list(range(1 + N * i, 1 + N * (i + 1)))))\n",
    "A"
   ]
  },
  {
   "cell_type": "markdown",
   "id": "e53bd286",
   "metadata": {},
   "source": [
    "7. Python | Get Kth Column of Matrix"
   ]
  },
  {
   "cell_type": "code",
   "execution_count": 51,
   "id": "72234e3b",
   "metadata": {},
   "outputs": [
    {
     "data": {
      "text/plain": [
       "[2, 5, 8]"
      ]
     },
     "execution_count": 51,
     "metadata": {},
     "output_type": "execute_result"
    }
   ],
   "source": [
    "def kth_in_matrix(matrix,k_th):\n",
    "    \n",
    "    L = []\n",
    "\n",
    "    for i in matrix:\n",
    "        L.append(i[k_th])\n",
    "    return L\n",
    "\n",
    "X = [[1,2,3],\n",
    "    [4 ,5,6],\n",
    "    [7 ,8,9]]\n",
    "\n",
    "kth_in_matrix(X,1)\n"
   ]
  },
  {
   "cell_type": "markdown",
   "id": "dbfb0ac1",
   "metadata": {},
   "source": [
    "8. Python – Vertical Concatenation in Matrix"
   ]
  },
  {
   "cell_type": "code",
   "execution_count": 11,
   "id": "f84d1495",
   "metadata": {},
   "outputs": [
    {
     "name": "stdout",
     "output_type": "stream",
     "text": [
      "['Am', 'I', 'Doing', 'It', 'Right', 'Way']\n"
     ]
    }
   ],
   "source": [
    "def V_C(matrix):\n",
    "    \n",
    "    L = []\n",
    "    for j in range(len(matrix[0])):\n",
    "            for i in matrix:\n",
    "                L.append(i[j])\n",
    "    print(L)\n",
    "\n",
    "                \n",
    "X = [['Am','It'],\n",
    "    ['I','Right'],\n",
    "    ['Doing','Way']]\n",
    "\n",
    "V_C(X)"
   ]
  },
  {
   "cell_type": "markdown",
   "id": "27caba08",
   "metadata": {},
   "source": [
    "9. Python program to check if a string is palindrome or not"
   ]
  },
  {
   "cell_type": "code",
   "execution_count": 2,
   "id": "155ec58b",
   "metadata": {},
   "outputs": [
    {
     "name": "stdout",
     "output_type": "stream",
     "text": [
      " cought you\n",
      " wrong guess \n"
     ]
    }
   ],
   "source": [
    "def palindrome_check(string):\n",
    "    \n",
    "    if string==string[::-1]:\n",
    "        print(' cought you')\n",
    "    else :\n",
    "        print(' wrong guess ')\n",
    "        \n",
    "q = \"tenet\"\n",
    "a = \"asad\"\n",
    "palindrome_check(q)\n",
    "palindrome_check(a)"
   ]
  },
  {
   "cell_type": "markdown",
   "id": "301ddc3c",
   "metadata": {},
   "source": [
    "10. Python program to check whether the string is Symmetrical or Palindrome"
   ]
  },
  {
   "cell_type": "code",
   "execution_count": 3,
   "id": "a768abab",
   "metadata": {},
   "outputs": [
    {
     "name": "stdout",
     "output_type": "stream",
     "text": [
      "tenet  is palindrome\n",
      "no-palindrone\n",
      "aamaam is symmertrical\n"
     ]
    }
   ],
   "source": [
    "def symmertical_or_palindrome(string):\n",
    "    \n",
    "    half = int(len(string) / 2)\n",
    "    \n",
    "    \n",
    "    if string == string[::-1]:\n",
    "        print(string, ' is palindrome')\n",
    "        \n",
    "    else :\n",
    "        print('no-palindrone')\n",
    "\n",
    "    \n",
    "    if len(string) % 2 == 0 :\n",
    "        first_str = string[:half]\n",
    "        sec_str = string[half:]\n",
    "    \n",
    "        if first_str == sec_str :\n",
    "            print(string, 'is symmertrical')\n",
    "        \n",
    "        else :\n",
    "            print('no-symmertrical')\n",
    "    \n",
    "\n",
    "A = 'tenet'\n",
    "B = \"aamaam\"\n",
    "\n",
    "symmertical_or_palindrome(A)\n",
    "symmertical_or_palindrome(B)"
   ]
  },
  {
   "cell_type": "code",
   "execution_count": null,
   "id": "5694c2b2",
   "metadata": {},
   "outputs": [],
   "source": []
  }
 ],
 "metadata": {
  "kernelspec": {
   "display_name": "Python 3",
   "language": "python",
   "name": "python3"
  },
  "language_info": {
   "codemirror_mode": {
    "name": "ipython",
    "version": 3
   },
   "file_extension": ".py",
   "mimetype": "text/x-python",
   "name": "python",
   "nbconvert_exporter": "python",
   "pygments_lexer": "ipython3",
   "version": "3.8.8"
  }
 },
 "nbformat": 4,
 "nbformat_minor": 5
}
